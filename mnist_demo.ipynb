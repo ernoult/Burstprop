{
 "cells": [
  {
   "cell_type": "markdown",
   "metadata": {},
   "source": [
    "In this demo, we train a 1-hiddel layer fully-connected network on MNIST for 10 epochs using the Burstprop learning rule with updating feedback weights, and observe the weight alignment before and after training."
   ]
  },
  {
   "cell_type": "markdown",
   "metadata": {},
   "source": [
    "## Import dependencies"
   ]
  },
  {
   "cell_type": "code",
   "execution_count": 42,
   "metadata": {},
   "outputs": [],
   "source": [
    "import os\n",
    "import math\n",
    "\n",
    "import torch\n",
    "import torch.nn.functional as F\n",
    "\n",
    "import matplotlib.pyplot as plt"
   ]
  },
  {
   "cell_type": "markdown",
   "metadata": {},
   "source": [
    "## Setting the hyperparameters"
   ]
  },
  {
   "cell_type": "code",
   "execution_count": 43,
   "metadata": {},
   "outputs": [],
   "source": [
    "directory = \"./Demo\"\n",
    "\n",
    "n_epochs = 10             # Train for 10 epochs\n",
    "batch_size = 32           # Set the batch size\n",
    "n_hidden_layers = 1       # Use one hidden layer\n",
    "weight_decay = 1e-4       # Set weight decay\n",
    "momentum = 0.9            # Set momentum\n",
    "hidden_lr = 1.0           # Set the learning rate for the hidden layer\n",
    "output_lr = 0.01          # Set the learning rate for the output layer\n",
    "weight_fa_learning = True # Use the Kolen-Pollack learning rule for feedback weights\n",
    "weight_fa_std = 0.1       # Set standard deviation for initialization of feedback weights"
   ]
  },
  {
   "cell_type": "markdown",
   "metadata": {},
   "source": [
    "## Running the training script"
   ]
  },
  {
   "cell_type": "markdown",
   "metadata": {},
   "source": [
    "We'll use Jupyter's magic %run command to run the main script:"
   ]
  },
  {
   "cell_type": "code",
   "execution_count": 44,
   "metadata": {},
   "outputs": [
    {
     "name": "stderr",
     "output_type": "stream",
     "text": [
      "Test Loss: 0.503 | Acc: 10.390% (1039/10000): 100%|██████████| 100/100 [00:02<00:00, 38.06it/s]\n",
      "  0%|          | 0/1563 [00:00<?, ?it/s]"
     ]
    },
    {
     "name": "stdout",
     "output_type": "stream",
     "text": [
      "\n",
      "Epoch 1.\n"
     ]
    },
    {
     "name": "stderr",
     "output_type": "stream",
     "text": [
      "Train Loss: 0.083 | Acc: 35.934% (17967/50000): 100%|██████████| 1563/1563 [00:57<00:00, 27.37it/s]\n",
      "Test Loss: 0.054 | Acc: 65.170% (6517/10000): 100%|██████████| 100/100 [00:01<00:00, 55.94it/s]\n",
      "  0%|          | 0/1563 [00:00<?, ?it/s]"
     ]
    },
    {
     "name": "stdout",
     "output_type": "stream",
     "text": [
      "\n",
      "Epoch 2.\n"
     ]
    },
    {
     "name": "stderr",
     "output_type": "stream",
     "text": [
      "Train Loss: 0.043 | Acc: 71.852% (35926/50000): 100%|██████████| 1563/1563 [00:46<00:00, 33.26it/s]\n",
      "Test Loss: 0.036 | Acc: 77.680% (7768/10000): 100%|██████████| 100/100 [00:01<00:00, 57.85it/s]\n",
      "  0%|          | 0/1563 [00:00<?, ?it/s]"
     ]
    },
    {
     "name": "stdout",
     "output_type": "stream",
     "text": [
      "\n",
      "Epoch 3.\n"
     ]
    },
    {
     "name": "stderr",
     "output_type": "stream",
     "text": [
      "Train Loss: 0.032 | Acc: 80.868% (40434/50000): 100%|██████████| 1563/1563 [00:45<00:00, 34.38it/s]\n",
      "Test Loss: 0.029 | Acc: 84.560% (8456/10000): 100%|██████████| 100/100 [00:01<00:00, 56.05it/s]\n",
      "  0%|          | 0/1563 [00:00<?, ?it/s]"
     ]
    },
    {
     "name": "stdout",
     "output_type": "stream",
     "text": [
      "\n",
      "Epoch 4.\n"
     ]
    },
    {
     "name": "stderr",
     "output_type": "stream",
     "text": [
      "Train Loss: 0.026 | Acc: 87.784% (43892/50000): 100%|██████████| 1563/1563 [00:46<00:00, 33.30it/s]\n",
      "Test Loss: 0.025 | Acc: 87.930% (8793/10000): 100%|██████████| 100/100 [00:01<00:00, 52.69it/s]\n",
      "  0%|          | 0/1563 [00:00<?, ?it/s]"
     ]
    },
    {
     "name": "stdout",
     "output_type": "stream",
     "text": [
      "\n",
      "Epoch 5.\n"
     ]
    },
    {
     "name": "stderr",
     "output_type": "stream",
     "text": [
      "Train Loss: 0.024 | Acc: 89.078% (44539/50000): 100%|██████████| 1563/1563 [00:47<00:00, 33.18it/s]\n",
      "Test Loss: 0.023 | Acc: 88.600% (8860/10000): 100%|██████████| 100/100 [00:01<00:00, 56.74it/s]\n",
      "  0%|          | 0/1563 [00:00<?, ?it/s]"
     ]
    },
    {
     "name": "stdout",
     "output_type": "stream",
     "text": [
      "\n",
      "Epoch 6.\n"
     ]
    },
    {
     "name": "stderr",
     "output_type": "stream",
     "text": [
      "Train Loss: 0.023 | Acc: 89.560% (44780/50000): 100%|██████████| 1563/1563 [00:44<00:00, 34.97it/s]\n",
      "Test Loss: 0.023 | Acc: 88.920% (8892/10000): 100%|██████████| 100/100 [00:01<00:00, 53.64it/s]\n",
      "  0%|          | 0/1563 [00:00<?, ?it/s]"
     ]
    },
    {
     "name": "stdout",
     "output_type": "stream",
     "text": [
      "\n",
      "Epoch 7.\n"
     ]
    },
    {
     "name": "stderr",
     "output_type": "stream",
     "text": [
      "Train Loss: 0.022 | Acc: 89.876% (44938/50000): 100%|██████████| 1563/1563 [00:46<00:00, 33.64it/s]\n",
      "Test Loss: 0.022 | Acc: 89.210% (8921/10000): 100%|██████████| 100/100 [00:01<00:00, 56.77it/s]\n",
      "  0%|          | 0/1563 [00:00<?, ?it/s]"
     ]
    },
    {
     "name": "stdout",
     "output_type": "stream",
     "text": [
      "\n",
      "Epoch 8.\n"
     ]
    },
    {
     "name": "stderr",
     "output_type": "stream",
     "text": [
      "Train Loss: 0.022 | Acc: 90.096% (45048/50000): 100%|██████████| 1563/1563 [00:46<00:00, 33.48it/s]\n",
      "Test Loss: 0.022 | Acc: 89.280% (8928/10000): 100%|██████████| 100/100 [00:01<00:00, 54.55it/s]\n",
      "  0%|          | 0/1563 [00:00<?, ?it/s]"
     ]
    },
    {
     "name": "stdout",
     "output_type": "stream",
     "text": [
      "\n",
      "Epoch 9.\n"
     ]
    },
    {
     "name": "stderr",
     "output_type": "stream",
     "text": [
      "Train Loss: 0.022 | Acc: 90.186% (45093/50000): 100%|██████████| 1563/1563 [00:46<00:00, 33.48it/s]\n",
      "Test Loss: 0.022 | Acc: 89.450% (8945/10000): 100%|██████████| 100/100 [00:01<00:00, 56.33it/s]\n",
      "  0%|          | 0/1563 [00:00<?, ?it/s]"
     ]
    },
    {
     "name": "stdout",
     "output_type": "stream",
     "text": [
      "\n",
      "Epoch 10.\n"
     ]
    },
    {
     "name": "stderr",
     "output_type": "stream",
     "text": [
      "Train Loss: 0.022 | Acc: 90.294% (45147/50000): 100%|██████████| 1563/1563 [00:46<00:00, 33.80it/s]\n",
      "Test Loss: 0.022 | Acc: 89.550% (8955/10000): 100%|██████████| 100/100 [00:02<00:00, 48.49it/s]\n"
     ]
    }
   ],
   "source": [
    "%run train_mnist.py {directory} -momentum {momentum} -n_epochs {n_epochs} -weight_decay {weight_decay} -n_hidden_layers {n_hidden_layers} -hidden_lr {hidden_lr} -output_lr {output_lr} -weight_fa_std {weight_fa_std} -batch_size {batch_size} -weight_fa_learning {weight_fa_learning} -validation True"
   ]
  },
  {
   "cell_type": "markdown",
   "metadata": {},
   "source": [
    "**Note:** The same can be done from the command line, by running:\n",
    "\n",
    "```\n",
    "python3 train_mnist.py ./Demo -momentum 0.9 -n_epochs 10 -weight_decay 1e-4 -n_hidden_layers 1 -hidden_lr 1.0 -output_lr 0.01 -weight_fa_std 0.1 -batch_size 32 -weight_fa_learning True -validation True\n",
    "```"
   ]
  },
  {
   "cell_type": "markdown",
   "metadata": {},
   "source": [
    "## Loading the model"
   ]
  },
  {
   "cell_type": "code",
   "execution_count": 45,
   "metadata": {},
   "outputs": [],
   "source": [
    "net_pre = torch.load(os.path.join(directory, \"initial_model.pth\")) # Before training\n",
    "net = torch.load(os.path.join(directory, \"model.pth\"))             # After 10 epochs"
   ]
  },
  {
   "cell_type": "markdown",
   "metadata": {},
   "source": [
    "## Compare weight alignment before and after training"
   ]
  },
  {
   "cell_type": "code",
   "execution_count": 46,
   "metadata": {},
   "outputs": [],
   "source": [
    "weight_fa_pre = net_pre.classification_layers[1].weight_fa\n",
    "weight_pre = net_pre.classification_layers[1].weight\n",
    "\n",
    "weight_fa = net.classification_layers[1].weight_fa\n",
    "weight = net.classification_layers[1].weight"
   ]
  },
  {
   "cell_type": "code",
   "execution_count": 47,
   "metadata": {},
   "outputs": [
    {
     "data": {
      "image/png": "[encoded data removed]",
      "text/plain": [
       "<Figure size 1080x576 with 2 Axes>"
      ]
     },
     "metadata": {
      "needs_background": "light"
     },
     "output_type": "display_data"
    }
   ],
   "source": [
    "f, (ax1, ax2) = plt.subplots(1, 2, figsize=(15, 8))\n",
    "ax1.axhline(y=0, color='k', alpha=0.25)\n",
    "ax1.axvline(x=0, color='k', alpha=0.25)\n",
    "ax2.axhline(y=0, color='k', alpha=0.25)\n",
    "ax2.axvline(x=0, color='k', alpha=0.25)\n",
    "ax1.scatter(weight_pre.flatten()[:500], weight_fa_pre.flatten()[:500], c='b', label='Before training')\n",
    "ax2.scatter(weight.flatten()[:500], weight_fa.flatten()[:500], c='r', label=f'After {n_epochs} epochs')\n",
    "ax1.set_xlabel('Feedback weight')\n",
    "ax1.set_ylabel('Feedforward weight')\n",
    "ax1.set_title(f\"Hidden layer feedforward vs. feedback weights, before training and after {n_epochs} epochs\")\n",
    "ax1.legend()\n",
    "ax2.legend()\n",
    "plt.show()"
   ]
  },
  {
   "cell_type": "code",
   "execution_count": 48,
   "metadata": {},
   "outputs": [],
   "source": [
    "def weight_alignment(weight, weight_fa):\n",
    "    \"\"\"\n",
    "    Given feedforward and feedback weights, compute the\n",
    "    angle between the weight vectors.\n",
    "    \n",
    "    Arguments:\n",
    "    weight: Feedforward weight tensor.\n",
    "    weight_fa: Feedback weight tensor.\n",
    "    \n",
    "    Returns:\n",
    "    Angle between the two weigh\n",
    "    \"\"\"\n",
    "    \n",
    "    return (180/math.pi)*torch.acos(F.cosine_similarity(weight.flatten(), weight_fa.flatten(), dim=0))"
   ]
  },
  {
   "cell_type": "code",
   "execution_count": 49,
   "metadata": {},
   "outputs": [
    {
     "name": "stdout",
     "output_type": "stream",
     "text": [
      "Before training: 89.88915252685547\n",
      "After 10 epochs: 42.22511672973633\n"
     ]
    }
   ],
   "source": [
    "# Compare angles between weights pre- and post-training\n",
    "\n",
    "print(f\"Before training: {weight_alignment(weight_pre, weight_fa_pre)}\")\n",
    "print(f\"After {n_epochs} epochs: {weight_alignment(weight, weight_fa)}\")"
   ]
  },
  {
   "cell_type": "code",
   "execution_count": null,
   "metadata": {},
   "outputs": [],
   "source": []
  }
 ],
 "metadata": {
  "kernelspec": {
   "display_name": "Python 3",
   "language": "python",
   "name": "python3"
  },
  "language_info": {
   "codemirror_mode": {
    "name": "ipython",
    "version": 3
   },
   "file_extension": ".py",
   "mimetype": "text/x-python",
   "name": "python",
   "nbconvert_exporter": "python",
   "pygments_lexer": "ipython3",
   "version": "3.7.7"
  }
 },
 "nbformat": 4,
 "nbformat_minor": 4
}
