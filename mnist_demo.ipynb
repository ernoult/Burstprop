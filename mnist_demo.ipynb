{
 "cells": [
  {
   "cell_type": "markdown",
   "metadata": {},
   "source": [
    "In this demo, we train a 1-hiddel layer fully-connected network on MNIST for 10 epochs using the Burstprop learning rule with updating feedback weights, and observe the weight alignment before and after training."
   ]
  },
  {
   "cell_type": "markdown",
   "metadata": {},
   "source": [
    "## Import dependencies"
   ]
  },
  {
   "cell_type": "code",
   "execution_count": 28,
   "metadata": {},
   "outputs": [],
   "source": [
    "import os\n",
    "import math\n",
    "\n",
    "import torch\n",
    "import torch.nn.functional as F\n",
    "\n",
    "import matplotlib.pyplot as plt"
   ]
  },
  {
   "cell_type": "markdown",
   "metadata": {},
   "source": [
    "## Setting the hyperparameters"
   ]
  },
  {
   "cell_type": "code",
   "execution_count": 29,
   "metadata": {},
   "outputs": [],
   "source": [
    "directory = \"./Demo\"\n",
    "\n",
    "n_epochs = 10             # Train for 10 epochs\n",
    "batch_size = 32           # Set the batch size\n",
    "n_hidden_layers = 1       # Use one hidden layer\n",
    "weight_decay = 1e-4       # Set weight decay\n",
    "momentum = 0.9            # Set momentum\n",
    "hidden_lr = 1.0           # Set the learning rate for the hidden layer\n",
    "output_lr = 0.01          # Set the learning rate for the output layer\n",
    "weight_fa_learning = True # Use the Kolen-Pollack learning rule for feedback weights\n",
    "weight_fa_std = 0.5       # Set standard deviation for initialization of feedback weights"
   ]
  },
  {
   "cell_type": "markdown",
   "metadata": {},
   "source": [
    "## Running the training script"
   ]
  },
  {
   "cell_type": "markdown",
   "metadata": {},
   "source": [
    "We'll use Jupyter's magic %run command to run the main script:"
   ]
  },
  {
   "cell_type": "code",
   "execution_count": 30,
   "metadata": {},
   "outputs": [
    {
     "name": "stderr",
     "output_type": "stream",
     "text": [
      "Test Loss: 0.379 | Acc: 8.450% (845/10000): 100%|██████████| 100/100 [00:03<00:00, 32.68it/s]\n",
      "  0%|          | 0/1563 [00:00<?, ?it/s]"
     ]
    },
    {
     "name": "stdout",
     "output_type": "stream",
     "text": [
      "\n",
      "Epoch 1.\n"
     ]
    },
    {
     "name": "stderr",
     "output_type": "stream",
     "text": [
      "Train Loss: 0.080 | Acc: 43.234% (21617/50000): 100%|██████████| 1563/1563 [00:57<00:00, 26.99it/s]\n",
      "Test Loss: 0.046 | Acc: 65.370% (6537/10000): 100%|██████████| 100/100 [00:02<00:00, 39.97it/s]\n",
      "  0%|          | 0/1563 [00:00<?, ?it/s]"
     ]
    },
    {
     "name": "stdout",
     "output_type": "stream",
     "text": [
      "\n",
      "Epoch 2.\n"
     ]
    },
    {
     "name": "stderr",
     "output_type": "stream",
     "text": [
      "Train Loss: 0.038 | Acc: 73.152% (36576/50000): 100%|██████████| 1563/1563 [01:02<00:00, 25.10it/s]\n",
      "Test Loss: 0.031 | Acc: 80.800% (8080/10000): 100%|██████████| 100/100 [00:02<00:00, 42.62it/s]\n",
      "  0%|          | 0/1563 [00:00<?, ?it/s]"
     ]
    },
    {
     "name": "stdout",
     "output_type": "stream",
     "text": [
      "\n",
      "Epoch 3.\n"
     ]
    },
    {
     "name": "stderr",
     "output_type": "stream",
     "text": [
      "Train Loss: 0.025 | Acc: 87.056% (43528/50000): 100%|██████████| 1563/1563 [00:58<00:00, 26.69it/s]\n",
      "Test Loss: 0.021 | Acc: 89.870% (8987/10000): 100%|██████████| 100/100 [00:02<00:00, 40.79it/s]\n",
      "  0%|          | 0/1563 [00:00<?, ?it/s]"
     ]
    },
    {
     "name": "stdout",
     "output_type": "stream",
     "text": [
      "\n",
      "Epoch 4.\n"
     ]
    },
    {
     "name": "stderr",
     "output_type": "stream",
     "text": [
      "Train Loss: 0.020 | Acc: 90.350% (45175/50000): 100%|██████████| 1563/1563 [00:58<00:00, 26.63it/s]\n",
      "Test Loss: 0.019 | Acc: 90.710% (9071/10000): 100%|██████████| 100/100 [00:02<00:00, 41.14it/s]\n",
      "  0%|          | 0/1563 [00:00<?, ?it/s]"
     ]
    },
    {
     "name": "stdout",
     "output_type": "stream",
     "text": [
      "\n",
      "Epoch 5.\n"
     ]
    },
    {
     "name": "stderr",
     "output_type": "stream",
     "text": [
      "Train Loss: 0.018 | Acc: 91.054% (45527/50000): 100%|██████████| 1563/1563 [00:59<00:00, 26.10it/s]\n",
      "Test Loss: 0.018 | Acc: 91.160% (9116/10000): 100%|██████████| 100/100 [00:02<00:00, 38.71it/s]\n",
      "  0%|          | 0/1563 [00:00<?, ?it/s]"
     ]
    },
    {
     "name": "stdout",
     "output_type": "stream",
     "text": [
      "\n",
      "Epoch 6.\n"
     ]
    },
    {
     "name": "stderr",
     "output_type": "stream",
     "text": [
      "Train Loss: 0.018 | Acc: 91.384% (45692/50000): 100%|██████████| 1563/1563 [01:00<00:00, 25.76it/s]\n",
      "Test Loss: 0.018 | Acc: 91.480% (9148/10000): 100%|██████████| 100/100 [00:02<00:00, 39.66it/s]\n",
      "  0%|          | 0/1563 [00:00<?, ?it/s]"
     ]
    },
    {
     "name": "stdout",
     "output_type": "stream",
     "text": [
      "\n",
      "Epoch 7.\n"
     ]
    },
    {
     "name": "stderr",
     "output_type": "stream",
     "text": [
      "Train Loss: 0.018 | Acc: 91.594% (45797/50000): 100%|██████████| 1563/1563 [00:59<00:00, 26.05it/s]\n",
      "Test Loss: 0.018 | Acc: 91.660% (9166/10000): 100%|██████████| 100/100 [00:02<00:00, 39.74it/s]\n",
      "  0%|          | 0/1563 [00:00<?, ?it/s]"
     ]
    },
    {
     "name": "stdout",
     "output_type": "stream",
     "text": [
      "\n",
      "Epoch 8.\n"
     ]
    },
    {
     "name": "stderr",
     "output_type": "stream",
     "text": [
      "Train Loss: 0.018 | Acc: 91.670% (45835/50000): 100%|██████████| 1563/1563 [01:00<00:00, 26.03it/s]\n",
      "Test Loss: 0.018 | Acc: 91.850% (9185/10000): 100%|██████████| 100/100 [00:02<00:00, 40.25it/s]\n",
      "  0%|          | 0/1563 [00:00<?, ?it/s]"
     ]
    },
    {
     "name": "stdout",
     "output_type": "stream",
     "text": [
      "\n",
      "Epoch 9.\n"
     ]
    },
    {
     "name": "stderr",
     "output_type": "stream",
     "text": [
      "Train Loss: 0.018 | Acc: 91.752% (45876/50000): 100%|██████████| 1563/1563 [01:02<00:00, 25.16it/s]\n",
      "Test Loss: 0.018 | Acc: 91.760% (9176/10000): 100%|██████████| 100/100 [00:02<00:00, 42.38it/s]\n",
      "  0%|          | 0/1563 [00:00<?, ?it/s]"
     ]
    },
    {
     "name": "stdout",
     "output_type": "stream",
     "text": [
      "\n",
      "Epoch 10.\n"
     ]
    },
    {
     "name": "stderr",
     "output_type": "stream",
     "text": [
      "Train Loss: 0.018 | Acc: 91.752% (45876/50000): 100%|██████████| 1563/1563 [01:03<00:00, 24.77it/s]\n",
      "Test Loss: 0.018 | Acc: 91.660% (9166/10000): 100%|██████████| 100/100 [00:02<00:00, 40.36it/s]\n"
     ]
    }
   ],
   "source": [
    "%run train_mnist.py {directory} -momentum {momentum} -n_epochs {n_epochs} -weight_decay {weight_decay} -n_hidden_layers {n_hidden_layers} -hidden_lr {hidden_lr} -output_lr {output_lr} -weight_fa_std {weight_fa_std} -batch_size {batch_size} -weight_fa_learning {weight_fa_learning} -validation True"
   ]
  },
  {
   "cell_type": "markdown",
   "metadata": {},
   "source": [
    "**Note:** The same can be done from the command line, by running:\n",
    "\n",
    "```\n",
    "python3 train_mnist.py ./Demo -momentum 0.9 -n_epochs 10 -weight_decay 1e-4 -n_hidden_layers 1 -hidden_lr 1.0 -output_lr 0.01 -weight_fa_std 0.1 -batch_size 32 -weight_fa_learning True -validation True\n",
    "```"
   ]
  },
  {
   "cell_type": "markdown",
   "metadata": {},
   "source": [
    "## Loading the model"
   ]
  },
  {
   "cell_type": "code",
   "execution_count": 31,
   "metadata": {},
   "outputs": [],
   "source": [
    "net_pre = torch.load(os.path.join(directory, \"initial_model.pth\")) # Before training\n",
    "net = torch.load(os.path.join(directory, \"model.pth\"))             # After 10 epochs"
   ]
  },
  {
   "cell_type": "markdown",
   "metadata": {},
   "source": [
    "## Compare weight alignment before and after training"
   ]
  },
  {
   "cell_type": "code",
   "execution_count": 32,
   "metadata": {},
   "outputs": [],
   "source": [
    "weight_fa_pre = net_pre.classification_layers[1].weight_fa\n",
    "weight_pre = net_pre.classification_layers[1].weight\n",
    "\n",
    "weight_fa = net.classification_layers[1].weight_fa\n",
    "weight = net.classification_layers[1].weight"
   ]
  },
  {
   "cell_type": "code",
   "execution_count": 39,
   "metadata": {},
   "outputs": [
    {
     "data": {
      "image/png": "[encoded data removed]",
      "text/plain": [
       "<Figure size 1080x576 with 2 Axes>"
      ]
     },
     "metadata": {
      "needs_background": "light"
     },
     "output_type": "display_data"
    }
   ],
   "source": [
    "f, (ax1, ax2) = plt.subplots(1, 2, figsize=(15, 8))\n",
    "ax1.axhline(y=0, color='k', alpha=0.25)\n",
    "ax1.axvline(x=0, color='k', alpha=0.25)\n",
    "ax2.axhline(y=0, color='k', alpha=0.25)\n",
    "ax2.axvline(x=0, color='k', alpha=0.25)\n",
    "ax1.scatter(weight_pre.flatten()[:500], weight_fa_pre.flatten()[:500], c='b', label='Before training')\n",
    "ax2.scatter(weight.flatten()[:500], weight_fa.flatten()[:500], c='r', label=f'After {n_epochs} epochs')\n",
    "ax1.set_xlabel('Feedback weight')\n",
    "ax1.set_ylabel('Feedforward weight')\n",
    "ax1.set_title(f\"Hidden layer feedforward vs. feedback weights, before training and after {n_epochs} epochs\")\n",
    "ax1.legend()\n",
    "ax2.legend()\n",
    "plt.show()"
   ]
  },
  {
   "cell_type": "code",
   "execution_count": 40,
   "metadata": {},
   "outputs": [],
   "source": [
    "def weight_alignment(weight, weight_fa):\n",
    "    \"\"\"\n",
    "    Given feedforward and feedback weights, compute the\n",
    "    angle between the weight vectors.\n",
    "    \n",
    "    Arguments:\n",
    "    weight: Feedforward weight tensor.\n",
    "    weight_fa: Feedback weight tensor.\n",
    "    \n",
    "    Returns:\n",
    "    Angle between the two weigh\n",
    "    \"\"\"\n",
    "    \n",
    "    return (180/math.pi)*torch.acos(F.cosine_similarity(weight.flatten(), weight_fa.flatten(), dim=0))"
   ]
  },
  {
   "cell_type": "code",
   "execution_count": 41,
   "metadata": {},
   "outputs": [
    {
     "name": "stdout",
     "output_type": "stream",
     "text": [
      "Before training: 88.39533996582031\n",
      "After 10 epochs: 46.94438171386719\n"
     ]
    }
   ],
   "source": [
    "# Compare angles between weights pre- and post-training\n",
    "\n",
    "print(f\"Before training: {weight_alignment(weight_pre, weight_fa_pre)}\")\n",
    "print(f\"After {n_epochs} epochs: {weight_alignment(weight, weight_fa)}\")"
   ]
  },
  {
   "cell_type": "code",
   "execution_count": null,
   "metadata": {},
   "outputs": [],
   "source": []
  }
 ],
 "metadata": {
  "kernelspec": {
   "display_name": "Python 3",
   "language": "python",
   "name": "python3"
  },
  "language_info": {
   "codemirror_mode": {
    "name": "ipython",
    "version": 3
   },
   "file_extension": ".py",
   "mimetype": "text/x-python",
   "name": "python",
   "nbconvert_exporter": "python",
   "pygments_lexer": "ipython3",
   "version": "3.7.7"
  }
 },
 "nbformat": 4,
 "nbformat_minor": 4
}
